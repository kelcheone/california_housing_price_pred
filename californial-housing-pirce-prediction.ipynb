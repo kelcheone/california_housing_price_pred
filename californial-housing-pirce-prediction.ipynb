{
 "cells": [
  {
   "cell_type": "code",
   "execution_count": 1,
   "id": "e631617d",
   "metadata": {
    "_cell_guid": "b1076dfc-b9ad-4769-8c92-a6c4dae69d19",
    "_uuid": "8f2839f25d086af736a60e9eeb907d3b93b6e0e5",
    "execution": {
     "iopub.execute_input": "2022-11-21T19:52:25.430869Z",
     "iopub.status.busy": "2022-11-21T19:52:25.430364Z",
     "iopub.status.idle": "2022-11-21T19:52:25.448952Z",
     "shell.execute_reply": "2022-11-21T19:52:25.447783Z"
    },
    "papermill": {
     "duration": 0.028605,
     "end_time": "2022-11-21T19:52:25.451286",
     "exception": false,
     "start_time": "2022-11-21T19:52:25.422681",
     "status": "completed"
    },
    "tags": []
   },
   "outputs": [
    {
     "name": "stdout",
     "output_type": "stream",
     "text": [
      "/kaggle/input/california-housing-prices/housing.csv\n"
     ]
    }
   ],
   "source": [
    "import os\n",
    "for dirname, _, filenames in os.walk('/kaggle/input'):\n",
    "    for filename in filenames:\n",
    "        print(os.path.join(dirname, filename))"
   ]
  },
  {
   "cell_type": "code",
   "execution_count": 2,
   "id": "446e9718",
   "metadata": {
    "execution": {
     "iopub.execute_input": "2022-11-21T19:52:25.464096Z",
     "iopub.status.busy": "2022-11-21T19:52:25.463185Z",
     "iopub.status.idle": "2022-11-21T19:52:25.468670Z",
     "shell.execute_reply": "2022-11-21T19:52:25.466789Z"
    },
    "papermill": {
     "duration": 0.014822,
     "end_time": "2022-11-21T19:52:25.471426",
     "exception": false,
     "start_time": "2022-11-21T19:52:25.456604",
     "status": "completed"
    },
    "tags": []
   },
   "outputs": [],
   "source": [
    "import numpy as np\n",
    "import pandas as pd\n",
    "import matplotlib.pyplot as plt"
   ]
  },
  {
   "cell_type": "code",
   "execution_count": 3,
   "id": "97e79644",
   "metadata": {
    "execution": {
     "iopub.execute_input": "2022-11-21T19:52:25.484639Z",
     "iopub.status.busy": "2022-11-21T19:52:25.483979Z",
     "iopub.status.idle": "2022-11-21T19:52:25.567872Z",
     "shell.execute_reply": "2022-11-21T19:52:25.566726Z"
    },
    "papermill": {
     "duration": 0.093622,
     "end_time": "2022-11-21T19:52:25.570447",
     "exception": false,
     "start_time": "2022-11-21T19:52:25.476825",
     "status": "completed"
    },
    "tags": []
   },
   "outputs": [
    {
     "data": {
      "text/html": [
       "<div>\n",
       "<style scoped>\n",
       "    .dataframe tbody tr th:only-of-type {\n",
       "        vertical-align: middle;\n",
       "    }\n",
       "\n",
       "    .dataframe tbody tr th {\n",
       "        vertical-align: top;\n",
       "    }\n",
       "\n",
       "    .dataframe thead th {\n",
       "        text-align: right;\n",
       "    }\n",
       "</style>\n",
       "<table border=\"1\" class=\"dataframe\">\n",
       "  <thead>\n",
       "    <tr style=\"text-align: right;\">\n",
       "      <th></th>\n",
       "      <th>longitude</th>\n",
       "      <th>latitude</th>\n",
       "      <th>housing_median_age</th>\n",
       "      <th>total_rooms</th>\n",
       "      <th>total_bedrooms</th>\n",
       "      <th>population</th>\n",
       "      <th>households</th>\n",
       "      <th>median_income</th>\n",
       "      <th>median_house_value</th>\n",
       "      <th>ocean_proximity</th>\n",
       "    </tr>\n",
       "  </thead>\n",
       "  <tbody>\n",
       "    <tr>\n",
       "      <th>0</th>\n",
       "      <td>-122.23</td>\n",
       "      <td>37.88</td>\n",
       "      <td>41.0</td>\n",
       "      <td>880.0</td>\n",
       "      <td>129.0</td>\n",
       "      <td>322.0</td>\n",
       "      <td>126.0</td>\n",
       "      <td>8.3252</td>\n",
       "      <td>452600.0</td>\n",
       "      <td>NEAR BAY</td>\n",
       "    </tr>\n",
       "    <tr>\n",
       "      <th>1</th>\n",
       "      <td>-122.22</td>\n",
       "      <td>37.86</td>\n",
       "      <td>21.0</td>\n",
       "      <td>7099.0</td>\n",
       "      <td>1106.0</td>\n",
       "      <td>2401.0</td>\n",
       "      <td>1138.0</td>\n",
       "      <td>8.3014</td>\n",
       "      <td>358500.0</td>\n",
       "      <td>NEAR BAY</td>\n",
       "    </tr>\n",
       "    <tr>\n",
       "      <th>2</th>\n",
       "      <td>-122.24</td>\n",
       "      <td>37.85</td>\n",
       "      <td>52.0</td>\n",
       "      <td>1467.0</td>\n",
       "      <td>190.0</td>\n",
       "      <td>496.0</td>\n",
       "      <td>177.0</td>\n",
       "      <td>7.2574</td>\n",
       "      <td>352100.0</td>\n",
       "      <td>NEAR BAY</td>\n",
       "    </tr>\n",
       "    <tr>\n",
       "      <th>3</th>\n",
       "      <td>-122.25</td>\n",
       "      <td>37.85</td>\n",
       "      <td>52.0</td>\n",
       "      <td>1274.0</td>\n",
       "      <td>235.0</td>\n",
       "      <td>558.0</td>\n",
       "      <td>219.0</td>\n",
       "      <td>5.6431</td>\n",
       "      <td>341300.0</td>\n",
       "      <td>NEAR BAY</td>\n",
       "    </tr>\n",
       "    <tr>\n",
       "      <th>4</th>\n",
       "      <td>-122.25</td>\n",
       "      <td>37.85</td>\n",
       "      <td>52.0</td>\n",
       "      <td>1627.0</td>\n",
       "      <td>280.0</td>\n",
       "      <td>565.0</td>\n",
       "      <td>259.0</td>\n",
       "      <td>3.8462</td>\n",
       "      <td>342200.0</td>\n",
       "      <td>NEAR BAY</td>\n",
       "    </tr>\n",
       "  </tbody>\n",
       "</table>\n",
       "</div>"
      ],
      "text/plain": [
       "   longitude  latitude  housing_median_age  total_rooms  total_bedrooms  \\\n",
       "0    -122.23     37.88                41.0        880.0           129.0   \n",
       "1    -122.22     37.86                21.0       7099.0          1106.0   \n",
       "2    -122.24     37.85                52.0       1467.0           190.0   \n",
       "3    -122.25     37.85                52.0       1274.0           235.0   \n",
       "4    -122.25     37.85                52.0       1627.0           280.0   \n",
       "\n",
       "   population  households  median_income  median_house_value ocean_proximity  \n",
       "0       322.0       126.0         8.3252            452600.0        NEAR BAY  \n",
       "1      2401.0      1138.0         8.3014            358500.0        NEAR BAY  \n",
       "2       496.0       177.0         7.2574            352100.0        NEAR BAY  \n",
       "3       558.0       219.0         5.6431            341300.0        NEAR BAY  \n",
       "4       565.0       259.0         3.8462            342200.0        NEAR BAY  "
      ]
     },
     "execution_count": 3,
     "metadata": {},
     "output_type": "execute_result"
    }
   ],
   "source": [
    "data = pd.read_csv(\"/kaggle/input/california-housing-prices/housing.csv\")\n",
    "data.shape\n",
    "data.head()\n",
    "# data.info()"
   ]
  },
  {
   "cell_type": "code",
   "execution_count": 4,
   "id": "50e5f6cd",
   "metadata": {
    "execution": {
     "iopub.execute_input": "2022-11-21T19:52:25.584277Z",
     "iopub.status.busy": "2022-11-21T19:52:25.583638Z",
     "iopub.status.idle": "2022-11-21T19:52:25.641278Z",
     "shell.execute_reply": "2022-11-21T19:52:25.639873Z"
    },
    "papermill": {
     "duration": 0.067639,
     "end_time": "2022-11-21T19:52:25.643779",
     "exception": false,
     "start_time": "2022-11-21T19:52:25.576140",
     "status": "completed"
    },
    "tags": []
   },
   "outputs": [
    {
     "data": {
      "text/html": [
       "<div>\n",
       "<style scoped>\n",
       "    .dataframe tbody tr th:only-of-type {\n",
       "        vertical-align: middle;\n",
       "    }\n",
       "\n",
       "    .dataframe tbody tr th {\n",
       "        vertical-align: top;\n",
       "    }\n",
       "\n",
       "    .dataframe thead th {\n",
       "        text-align: right;\n",
       "    }\n",
       "</style>\n",
       "<table border=\"1\" class=\"dataframe\">\n",
       "  <thead>\n",
       "    <tr style=\"text-align: right;\">\n",
       "      <th></th>\n",
       "      <th>longitude</th>\n",
       "      <th>latitude</th>\n",
       "      <th>housing_median_age</th>\n",
       "      <th>total_rooms</th>\n",
       "      <th>total_bedrooms</th>\n",
       "      <th>population</th>\n",
       "      <th>households</th>\n",
       "      <th>median_income</th>\n",
       "      <th>median_house_value</th>\n",
       "    </tr>\n",
       "  </thead>\n",
       "  <tbody>\n",
       "    <tr>\n",
       "      <th>count</th>\n",
       "      <td>20640.000000</td>\n",
       "      <td>20640.000000</td>\n",
       "      <td>20640.000000</td>\n",
       "      <td>20640.000000</td>\n",
       "      <td>20433.000000</td>\n",
       "      <td>20640.000000</td>\n",
       "      <td>20640.000000</td>\n",
       "      <td>20640.000000</td>\n",
       "      <td>20640.000000</td>\n",
       "    </tr>\n",
       "    <tr>\n",
       "      <th>mean</th>\n",
       "      <td>-119.569704</td>\n",
       "      <td>35.631861</td>\n",
       "      <td>28.639486</td>\n",
       "      <td>2635.763081</td>\n",
       "      <td>537.870553</td>\n",
       "      <td>1425.476744</td>\n",
       "      <td>499.539680</td>\n",
       "      <td>3.870671</td>\n",
       "      <td>206855.816909</td>\n",
       "    </tr>\n",
       "    <tr>\n",
       "      <th>std</th>\n",
       "      <td>2.003532</td>\n",
       "      <td>2.135952</td>\n",
       "      <td>12.585558</td>\n",
       "      <td>2181.615252</td>\n",
       "      <td>421.385070</td>\n",
       "      <td>1132.462122</td>\n",
       "      <td>382.329753</td>\n",
       "      <td>1.899822</td>\n",
       "      <td>115395.615874</td>\n",
       "    </tr>\n",
       "    <tr>\n",
       "      <th>min</th>\n",
       "      <td>-124.350000</td>\n",
       "      <td>32.540000</td>\n",
       "      <td>1.000000</td>\n",
       "      <td>2.000000</td>\n",
       "      <td>1.000000</td>\n",
       "      <td>3.000000</td>\n",
       "      <td>1.000000</td>\n",
       "      <td>0.499900</td>\n",
       "      <td>14999.000000</td>\n",
       "    </tr>\n",
       "    <tr>\n",
       "      <th>25%</th>\n",
       "      <td>-121.800000</td>\n",
       "      <td>33.930000</td>\n",
       "      <td>18.000000</td>\n",
       "      <td>1447.750000</td>\n",
       "      <td>296.000000</td>\n",
       "      <td>787.000000</td>\n",
       "      <td>280.000000</td>\n",
       "      <td>2.563400</td>\n",
       "      <td>119600.000000</td>\n",
       "    </tr>\n",
       "    <tr>\n",
       "      <th>50%</th>\n",
       "      <td>-118.490000</td>\n",
       "      <td>34.260000</td>\n",
       "      <td>29.000000</td>\n",
       "      <td>2127.000000</td>\n",
       "      <td>435.000000</td>\n",
       "      <td>1166.000000</td>\n",
       "      <td>409.000000</td>\n",
       "      <td>3.534800</td>\n",
       "      <td>179700.000000</td>\n",
       "    </tr>\n",
       "    <tr>\n",
       "      <th>75%</th>\n",
       "      <td>-118.010000</td>\n",
       "      <td>37.710000</td>\n",
       "      <td>37.000000</td>\n",
       "      <td>3148.000000</td>\n",
       "      <td>647.000000</td>\n",
       "      <td>1725.000000</td>\n",
       "      <td>605.000000</td>\n",
       "      <td>4.743250</td>\n",
       "      <td>264725.000000</td>\n",
       "    </tr>\n",
       "    <tr>\n",
       "      <th>max</th>\n",
       "      <td>-114.310000</td>\n",
       "      <td>41.950000</td>\n",
       "      <td>52.000000</td>\n",
       "      <td>39320.000000</td>\n",
       "      <td>6445.000000</td>\n",
       "      <td>35682.000000</td>\n",
       "      <td>6082.000000</td>\n",
       "      <td>15.000100</td>\n",
       "      <td>500001.000000</td>\n",
       "    </tr>\n",
       "  </tbody>\n",
       "</table>\n",
       "</div>"
      ],
      "text/plain": [
       "          longitude      latitude  housing_median_age   total_rooms  \\\n",
       "count  20640.000000  20640.000000        20640.000000  20640.000000   \n",
       "mean    -119.569704     35.631861           28.639486   2635.763081   \n",
       "std        2.003532      2.135952           12.585558   2181.615252   \n",
       "min     -124.350000     32.540000            1.000000      2.000000   \n",
       "25%     -121.800000     33.930000           18.000000   1447.750000   \n",
       "50%     -118.490000     34.260000           29.000000   2127.000000   \n",
       "75%     -118.010000     37.710000           37.000000   3148.000000   \n",
       "max     -114.310000     41.950000           52.000000  39320.000000   \n",
       "\n",
       "       total_bedrooms    population    households  median_income  \\\n",
       "count    20433.000000  20640.000000  20640.000000   20640.000000   \n",
       "mean       537.870553   1425.476744    499.539680       3.870671   \n",
       "std        421.385070   1132.462122    382.329753       1.899822   \n",
       "min          1.000000      3.000000      1.000000       0.499900   \n",
       "25%        296.000000    787.000000    280.000000       2.563400   \n",
       "50%        435.000000   1166.000000    409.000000       3.534800   \n",
       "75%        647.000000   1725.000000    605.000000       4.743250   \n",
       "max       6445.000000  35682.000000   6082.000000      15.000100   \n",
       "\n",
       "       median_house_value  \n",
       "count        20640.000000  \n",
       "mean        206855.816909  \n",
       "std         115395.615874  \n",
       "min          14999.000000  \n",
       "25%         119600.000000  \n",
       "50%         179700.000000  \n",
       "75%         264725.000000  \n",
       "max         500001.000000  "
      ]
     },
     "execution_count": 4,
     "metadata": {},
     "output_type": "execute_result"
    }
   ],
   "source": [
    "data[\"ocean_proximity\"].value_counts()\n",
    "data.describe()"
   ]
  },
  {
   "cell_type": "code",
   "execution_count": 5,
   "id": "851aad25",
   "metadata": {
    "execution": {
     "iopub.execute_input": "2022-11-21T19:52:25.657208Z",
     "iopub.status.busy": "2022-11-21T19:52:25.656530Z",
     "iopub.status.idle": "2022-11-21T19:52:27.771070Z",
     "shell.execute_reply": "2022-11-21T19:52:27.769925Z"
    },
    "papermill": {
     "duration": 2.123809,
     "end_time": "2022-11-21T19:52:27.773240",
     "exception": false,
     "start_time": "2022-11-21T19:52:25.649431",
     "status": "completed"
    },
    "tags": []
   },
   "outputs": [
    {
     "data": {
      "text/plain": [
       "array([[<AxesSubplot:title={'center':'longitude'}>,\n",
       "        <AxesSubplot:title={'center':'latitude'}>,\n",
       "        <AxesSubplot:title={'center':'housing_median_age'}>],\n",
       "       [<AxesSubplot:title={'center':'total_rooms'}>,\n",
       "        <AxesSubplot:title={'center':'total_bedrooms'}>,\n",
       "        <AxesSubplot:title={'center':'population'}>],\n",
       "       [<AxesSubplot:title={'center':'households'}>,\n",
       "        <AxesSubplot:title={'center':'median_income'}>,\n",
       "        <AxesSubplot:title={'center':'median_house_value'}>]],\n",
       "      dtype=object)"
      ]
     },
     "execution_count": 5,
     "metadata": {},
     "output_type": "execute_result"
    },
    {
     "data": {
      "image/png": "[encoded data removed]",
      "text/plain": [
       "<Figure size 1440x1080 with 9 Axes>"
      ]
     },
     "metadata": {
      "needs_background": "light"
     },
     "output_type": "display_data"
    }
   ],
   "source": [
    "data.hist(bins=50, figsize=(20,15))"
   ]
  },
  {
   "cell_type": "code",
   "execution_count": 6,
   "id": "8c6a7ba8",
   "metadata": {
    "execution": {
     "iopub.execute_input": "2022-11-21T19:52:27.787493Z",
     "iopub.status.busy": "2022-11-21T19:52:27.786820Z",
     "iopub.status.idle": "2022-11-21T19:52:28.584195Z",
     "shell.execute_reply": "2022-11-21T19:52:28.583298Z"
    },
    "papermill": {
     "duration": 0.806901,
     "end_time": "2022-11-21T19:52:28.586224",
     "exception": false,
     "start_time": "2022-11-21T19:52:27.779323",
     "status": "completed"
    },
    "tags": []
   },
   "outputs": [
    {
     "data": {
      "text/plain": [
       "<AxesSubplot:xlabel='longitude', ylabel='latitude'>"
      ]
     },
     "execution_count": 6,
     "metadata": {},
     "output_type": "execute_result"
    },
    {
     "data": {
      "image/png": "[encoded data removed]",
      "text/plain": [
       "<Figure size 432x288 with 2 Axes>"
      ]
     },
     "metadata": {
      "needs_background": "light"
     },
     "output_type": "display_data"
    }
   ],
   "source": [
    "data.plot(kind=\"scatter\" ,x=\"longitude\" ,y=\"latitude\", alpha=0.1,\n",
    "          s=data[\"population\"]/100, label=\"population\",\n",
    "         c=\"median_house_value\", cmap=plt.get_cmap(\"jet\"))"
   ]
  },
  {
   "cell_type": "code",
   "execution_count": 7,
   "id": "4a01b02e",
   "metadata": {
    "execution": {
     "iopub.execute_input": "2022-11-21T19:52:28.602809Z",
     "iopub.status.busy": "2022-11-21T19:52:28.601550Z",
     "iopub.status.idle": "2022-11-21T19:52:28.617427Z",
     "shell.execute_reply": "2022-11-21T19:52:28.616163Z"
    },
    "papermill": {
     "duration": 0.026324,
     "end_time": "2022-11-21T19:52:28.619670",
     "exception": false,
     "start_time": "2022-11-21T19:52:28.593346",
     "status": "completed"
    },
    "tags": []
   },
   "outputs": [
    {
     "data": {
      "text/plain": [
       "median_house_value    1.000000\n",
       "median_income         0.688075\n",
       "total_rooms           0.134153\n",
       "housing_median_age    0.105623\n",
       "households            0.065843\n",
       "total_bedrooms        0.049686\n",
       "population           -0.024650\n",
       "longitude            -0.045967\n",
       "latitude             -0.144160\n",
       "Name: median_house_value, dtype: float64"
      ]
     },
     "execution_count": 7,
     "metadata": {},
     "output_type": "execute_result"
    }
   ],
   "source": [
    "corr_matrix = data.corr()\n",
    "corr_matrix[\"median_house_value\"].sort_values(ascending=False)"
   ]
  },
  {
   "cell_type": "code",
   "execution_count": 8,
   "id": "a67385f9",
   "metadata": {
    "execution": {
     "iopub.execute_input": "2022-11-21T19:52:28.636394Z",
     "iopub.status.busy": "2022-11-21T19:52:28.635988Z",
     "iopub.status.idle": "2022-11-21T19:52:28.650270Z",
     "shell.execute_reply": "2022-11-21T19:52:28.649013Z"
    },
    "papermill": {
     "duration": 0.025946,
     "end_time": "2022-11-21T19:52:28.652673",
     "exception": false,
     "start_time": "2022-11-21T19:52:28.626727",
     "status": "completed"
    },
    "tags": []
   },
   "outputs": [
    {
     "data": {
      "text/plain": [
       "longitude             0\n",
       "latitude              0\n",
       "housing_median_age    0\n",
       "total_rooms           0\n",
       "total_bedrooms        0\n",
       "population            0\n",
       "households            0\n",
       "median_income         0\n",
       "median_house_value    0\n",
       "ocean_proximity       0\n",
       "dtype: int64"
      ]
     },
     "execution_count": 8,
     "metadata": {},
     "output_type": "execute_result"
    }
   ],
   "source": [
    "data_na = data.dropna(subset=[\"total_bedrooms\"])\n",
    "data_na.isna().sum()"
   ]
  },
  {
   "cell_type": "code",
   "execution_count": 9,
   "id": "78c201ee",
   "metadata": {
    "execution": {
     "iopub.execute_input": "2022-11-21T19:52:28.668431Z",
     "iopub.status.busy": "2022-11-21T19:52:28.668068Z",
     "iopub.status.idle": "2022-11-21T19:52:28.694271Z",
     "shell.execute_reply": "2022-11-21T19:52:28.693000Z"
    },
    "papermill": {
     "duration": 0.036839,
     "end_time": "2022-11-21T19:52:28.696707",
     "exception": false,
     "start_time": "2022-11-21T19:52:28.659868",
     "status": "completed"
    },
    "tags": []
   },
   "outputs": [
    {
     "data": {
      "text/html": [
       "<div>\n",
       "<style scoped>\n",
       "    .dataframe tbody tr th:only-of-type {\n",
       "        vertical-align: middle;\n",
       "    }\n",
       "\n",
       "    .dataframe tbody tr th {\n",
       "        vertical-align: top;\n",
       "    }\n",
       "\n",
       "    .dataframe thead th {\n",
       "        text-align: right;\n",
       "    }\n",
       "</style>\n",
       "<table border=\"1\" class=\"dataframe\">\n",
       "  <thead>\n",
       "    <tr style=\"text-align: right;\">\n",
       "      <th></th>\n",
       "      <th>longitude</th>\n",
       "      <th>latitude</th>\n",
       "      <th>housing_median_age</th>\n",
       "      <th>total_rooms</th>\n",
       "      <th>total_bedrooms</th>\n",
       "      <th>population</th>\n",
       "      <th>households</th>\n",
       "      <th>median_income</th>\n",
       "      <th>median_house_value</th>\n",
       "      <th>&lt;1H OCEAN</th>\n",
       "      <th>INLAND</th>\n",
       "      <th>NEAR BAY</th>\n",
       "      <th>NEAR OCEAN</th>\n",
       "    </tr>\n",
       "  </thead>\n",
       "  <tbody>\n",
       "    <tr>\n",
       "      <th>0</th>\n",
       "      <td>-122.23</td>\n",
       "      <td>37.88</td>\n",
       "      <td>41.0</td>\n",
       "      <td>880.0</td>\n",
       "      <td>129.0</td>\n",
       "      <td>322.0</td>\n",
       "      <td>126.0</td>\n",
       "      <td>8.3252</td>\n",
       "      <td>452600.0</td>\n",
       "      <td>0</td>\n",
       "      <td>0</td>\n",
       "      <td>1</td>\n",
       "      <td>0</td>\n",
       "    </tr>\n",
       "    <tr>\n",
       "      <th>1</th>\n",
       "      <td>-122.22</td>\n",
       "      <td>37.86</td>\n",
       "      <td>21.0</td>\n",
       "      <td>7099.0</td>\n",
       "      <td>1106.0</td>\n",
       "      <td>2401.0</td>\n",
       "      <td>1138.0</td>\n",
       "      <td>8.3014</td>\n",
       "      <td>358500.0</td>\n",
       "      <td>0</td>\n",
       "      <td>0</td>\n",
       "      <td>1</td>\n",
       "      <td>0</td>\n",
       "    </tr>\n",
       "    <tr>\n",
       "      <th>2</th>\n",
       "      <td>-122.24</td>\n",
       "      <td>37.85</td>\n",
       "      <td>52.0</td>\n",
       "      <td>1467.0</td>\n",
       "      <td>190.0</td>\n",
       "      <td>496.0</td>\n",
       "      <td>177.0</td>\n",
       "      <td>7.2574</td>\n",
       "      <td>352100.0</td>\n",
       "      <td>0</td>\n",
       "      <td>0</td>\n",
       "      <td>1</td>\n",
       "      <td>0</td>\n",
       "    </tr>\n",
       "    <tr>\n",
       "      <th>3</th>\n",
       "      <td>-122.25</td>\n",
       "      <td>37.85</td>\n",
       "      <td>52.0</td>\n",
       "      <td>1274.0</td>\n",
       "      <td>235.0</td>\n",
       "      <td>558.0</td>\n",
       "      <td>219.0</td>\n",
       "      <td>5.6431</td>\n",
       "      <td>341300.0</td>\n",
       "      <td>0</td>\n",
       "      <td>0</td>\n",
       "      <td>1</td>\n",
       "      <td>0</td>\n",
       "    </tr>\n",
       "    <tr>\n",
       "      <th>4</th>\n",
       "      <td>-122.25</td>\n",
       "      <td>37.85</td>\n",
       "      <td>52.0</td>\n",
       "      <td>1627.0</td>\n",
       "      <td>280.0</td>\n",
       "      <td>565.0</td>\n",
       "      <td>259.0</td>\n",
       "      <td>3.8462</td>\n",
       "      <td>342200.0</td>\n",
       "      <td>0</td>\n",
       "      <td>0</td>\n",
       "      <td>1</td>\n",
       "      <td>0</td>\n",
       "    </tr>\n",
       "  </tbody>\n",
       "</table>\n",
       "</div>"
      ],
      "text/plain": [
       "   longitude  latitude  housing_median_age  total_rooms  total_bedrooms  \\\n",
       "0    -122.23     37.88                41.0        880.0           129.0   \n",
       "1    -122.22     37.86                21.0       7099.0          1106.0   \n",
       "2    -122.24     37.85                52.0       1467.0           190.0   \n",
       "3    -122.25     37.85                52.0       1274.0           235.0   \n",
       "4    -122.25     37.85                52.0       1627.0           280.0   \n",
       "\n",
       "   population  households  median_income  median_house_value  <1H OCEAN  \\\n",
       "0       322.0       126.0         8.3252            452600.0          0   \n",
       "1      2401.0      1138.0         8.3014            358500.0          0   \n",
       "2       496.0       177.0         7.2574            352100.0          0   \n",
       "3       558.0       219.0         5.6431            341300.0          0   \n",
       "4       565.0       259.0         3.8462            342200.0          0   \n",
       "\n",
       "   INLAND  NEAR BAY  NEAR OCEAN  \n",
       "0       0         1           0  \n",
       "1       0         1           0  \n",
       "2       0         1           0  \n",
       "3       0         1           0  \n",
       "4       0         1           0  "
      ]
     },
     "execution_count": 9,
     "metadata": {},
     "output_type": "execute_result"
    }
   ],
   "source": [
    "dummies = pd.get_dummies(data_na[\"ocean_proximity\"])\n",
    "data_na_dummies = pd.concat([data_na, dummies], axis=\"columns\")\n",
    "data_na_dummies.head()\n",
    "data_clean = data_na_dummies.drop([\"ocean_proximity\", \"ISLAND\"], axis=\"columns\") \n",
    "data_clean.head()"
   ]
  },
  {
   "cell_type": "markdown",
   "id": "69ef95e0",
   "metadata": {
    "papermill": {
     "duration": 0.006988,
     "end_time": "2022-11-21T19:52:28.711108",
     "exception": false,
     "start_time": "2022-11-21T19:52:28.704120",
     "status": "completed"
    },
    "tags": []
   },
   "source": [
    "## Features and Labels dataset."
   ]
  },
  {
   "cell_type": "code",
   "execution_count": 10,
   "id": "3e47c691",
   "metadata": {
    "execution": {
     "iopub.execute_input": "2022-11-21T19:52:28.727178Z",
     "iopub.status.busy": "2022-11-21T19:52:28.726782Z",
     "iopub.status.idle": "2022-11-21T19:52:28.738335Z",
     "shell.execute_reply": "2022-11-21T19:52:28.736933Z"
    },
    "papermill": {
     "duration": 0.022695,
     "end_time": "2022-11-21T19:52:28.740918",
     "exception": false,
     "start_time": "2022-11-21T19:52:28.718223",
     "status": "completed"
    },
    "tags": []
   },
   "outputs": [
    {
     "data": {
      "text/plain": [
       "0    452600.0\n",
       "1    358500.0\n",
       "2    352100.0\n",
       "3    341300.0\n",
       "4    342200.0\n",
       "Name: median_house_value, dtype: float64"
      ]
     },
     "execution_count": 10,
     "metadata": {},
     "output_type": "execute_result"
    }
   ],
   "source": [
    "X=data_clean.drop(columns=[\"median_house_value\"]) \n",
    "y=data_clean[\"median_house_value\"]\n",
    "y.head()"
   ]
  },
  {
   "cell_type": "code",
   "execution_count": 11,
   "id": "75d1e4dd",
   "metadata": {
    "execution": {
     "iopub.execute_input": "2022-11-21T19:52:28.758032Z",
     "iopub.status.busy": "2022-11-21T19:52:28.757655Z",
     "iopub.status.idle": "2022-11-21T19:52:29.861910Z",
     "shell.execute_reply": "2022-11-21T19:52:29.860760Z"
    },
    "papermill": {
     "duration": 1.115869,
     "end_time": "2022-11-21T19:52:29.864556",
     "exception": false,
     "start_time": "2022-11-21T19:52:28.748687",
     "status": "completed"
    },
    "tags": []
   },
   "outputs": [],
   "source": [
    "from sklearn.model_selection import train_test_split\n",
    "X_train, X_test, y_train, y_test = train_test_split(X,y, test_size=0.2 , random_state=1984)"
   ]
  },
  {
   "cell_type": "code",
   "execution_count": 12,
   "id": "54da3eb2",
   "metadata": {
    "execution": {
     "iopub.execute_input": "2022-11-21T19:52:29.881171Z",
     "iopub.status.busy": "2022-11-21T19:52:29.880758Z",
     "iopub.status.idle": "2022-11-21T19:52:29.992913Z",
     "shell.execute_reply": "2022-11-21T19:52:29.992018Z"
    },
    "papermill": {
     "duration": 0.123073,
     "end_time": "2022-11-21T19:52:29.995155",
     "exception": false,
     "start_time": "2022-11-21T19:52:29.872082",
     "status": "completed"
    },
    "tags": []
   },
   "outputs": [
    {
     "data": {
      "text/plain": [
       "LinearRegression()"
      ]
     },
     "execution_count": 12,
     "metadata": {},
     "output_type": "execute_result"
    }
   ],
   "source": [
    "from sklearn.linear_model import LinearRegression\n",
    "OLS = LinearRegression()\n",
    "OLS.fit(X_train, y_train)"
   ]
  },
  {
   "cell_type": "markdown",
   "id": "61755b07",
   "metadata": {
    "papermill": {
     "duration": 0.010416,
     "end_time": "2022-11-21T19:52:30.016285",
     "exception": false,
     "start_time": "2022-11-21T19:52:30.005869",
     "status": "completed"
    },
    "tags": []
   },
   "source": [
    "### Display the intercepts and coefients of the OLS model"
   ]
  },
  {
   "cell_type": "code",
   "execution_count": 13,
   "id": "2b4d3421",
   "metadata": {
    "execution": {
     "iopub.execute_input": "2022-11-21T19:52:30.040239Z",
     "iopub.status.busy": "2022-11-21T19:52:30.039357Z",
     "iopub.status.idle": "2022-11-21T19:52:30.070195Z",
     "shell.execute_reply": "2022-11-21T19:52:30.069310Z"
    },
    "papermill": {
     "duration": 0.047398,
     "end_time": "2022-11-21T19:52:30.074298",
     "exception": false,
     "start_time": "2022-11-21T19:52:30.026900",
     "status": "completed"
    },
    "tags": []
   },
   "outputs": [
    {
     "name": "stdout",
     "output_type": "stream",
     "text": [
      "intercept is : -2146719.495872031\n",
      "Coeficients are: [-2.72191872e+04 -2.61224400e+04  1.03631750e+03 -6.39771322e+00\n",
      "  9.97707401e+01 -3.73545857e+01  4.99035484e+01  3.93656164e+04\n",
      " -1.49036788e+05 -1.87787533e+05 -1.51883617e+05 -1.45673607e+05]\n",
      "The R-Squared is: 0.6433902949192565\n"
     ]
    }
   ],
   "source": [
    "print(f\"intercept is : {OLS.intercept_}\")\n",
    "print(f\"Coeficients are: {OLS.coef_}\")\n",
    "print(f\"The R-Squared is: {OLS.score(X_train, y_train)}\") "
   ]
  },
  {
   "cell_type": "markdown",
   "id": "c395cf1c",
   "metadata": {
    "papermill": {
     "duration": 0.010003,
     "end_time": "2022-11-21T19:52:30.110644",
     "exception": false,
     "start_time": "2022-11-21T19:52:30.100641",
     "status": "completed"
    },
    "tags": []
   },
   "source": [
    "## Predicting with OLS"
   ]
  },
  {
   "cell_type": "code",
   "execution_count": 14,
   "id": "4902e97b",
   "metadata": {
    "execution": {
     "iopub.execute_input": "2022-11-21T19:52:30.134100Z",
     "iopub.status.busy": "2022-11-21T19:52:30.133690Z",
     "iopub.status.idle": "2022-11-21T19:52:30.154425Z",
     "shell.execute_reply": "2022-11-21T19:52:30.153628Z"
    },
    "papermill": {
     "duration": 0.035752,
     "end_time": "2022-11-21T19:52:30.156884",
     "exception": false,
     "start_time": "2022-11-21T19:52:30.121132",
     "status": "completed"
    },
    "tags": []
   },
   "outputs": [
    {
     "data": {
      "text/html": [
       "<div>\n",
       "<style scoped>\n",
       "    .dataframe tbody tr th:only-of-type {\n",
       "        vertical-align: middle;\n",
       "    }\n",
       "\n",
       "    .dataframe tbody tr th {\n",
       "        vertical-align: top;\n",
       "    }\n",
       "\n",
       "    .dataframe thead th {\n",
       "        text-align: right;\n",
       "    }\n",
       "</style>\n",
       "<table border=\"1\" class=\"dataframe\">\n",
       "  <thead>\n",
       "    <tr style=\"text-align: right;\">\n",
       "      <th></th>\n",
       "      <th>Predictions</th>\n",
       "      <th>Actual Values</th>\n",
       "      <th>Error</th>\n",
       "    </tr>\n",
       "  </thead>\n",
       "  <tbody>\n",
       "    <tr>\n",
       "      <th>15175</th>\n",
       "      <td>315646.738470</td>\n",
       "      <td>328200.0</td>\n",
       "      <td>12553.261530</td>\n",
       "    </tr>\n",
       "    <tr>\n",
       "      <th>15424</th>\n",
       "      <td>235926.156196</td>\n",
       "      <td>156900.0</td>\n",
       "      <td>-79026.156196</td>\n",
       "    </tr>\n",
       "    <tr>\n",
       "      <th>16212</th>\n",
       "      <td>157003.325611</td>\n",
       "      <td>87200.0</td>\n",
       "      <td>-69803.325611</td>\n",
       "    </tr>\n",
       "    <tr>\n",
       "      <th>15356</th>\n",
       "      <td>172404.340246</td>\n",
       "      <td>141000.0</td>\n",
       "      <td>-31404.340246</td>\n",
       "    </tr>\n",
       "    <tr>\n",
       "      <th>1899</th>\n",
       "      <td>82931.270634</td>\n",
       "      <td>100800.0</td>\n",
       "      <td>17868.729366</td>\n",
       "    </tr>\n",
       "  </tbody>\n",
       "</table>\n",
       "</div>"
      ],
      "text/plain": [
       "         Predictions  Actual Values         Error\n",
       "15175  315646.738470       328200.0  12553.261530\n",
       "15424  235926.156196       156900.0 -79026.156196\n",
       "16212  157003.325611        87200.0 -69803.325611\n",
       "15356  172404.340246       141000.0 -31404.340246\n",
       "1899    82931.270634       100800.0  17868.729366"
      ]
     },
     "execution_count": 14,
     "metadata": {},
     "output_type": "execute_result"
    }
   ],
   "source": [
    "y_pred = OLS.predict(X_test)\n",
    "performance = pd.DataFrame({\"Predictions\":y_pred,\"Actual Values\": y_test})\n",
    "performance[\"Error\"] = performance[\"Actual Values\"] - performance[\"Predictions\"]\n",
    "performance.head()"
   ]
  },
  {
   "cell_type": "markdown",
   "id": "807d1486",
   "metadata": {
    "papermill": {
     "duration": 0.011428,
     "end_time": "2022-11-21T19:52:30.179092",
     "exception": false,
     "start_time": "2022-11-21T19:52:30.167664",
     "status": "completed"
    },
    "tags": []
   },
   "source": [
    "### Preparing data from Residuals Plotting"
   ]
  },
  {
   "cell_type": "code",
   "execution_count": 15,
   "id": "6c64bac8",
   "metadata": {
    "execution": {
     "iopub.execute_input": "2022-11-21T19:52:30.201637Z",
     "iopub.status.busy": "2022-11-21T19:52:30.201237Z",
     "iopub.status.idle": "2022-11-21T19:52:30.216769Z",
     "shell.execute_reply": "2022-11-21T19:52:30.215968Z"
    },
    "papermill": {
     "duration": 0.029222,
     "end_time": "2022-11-21T19:52:30.219071",
     "exception": false,
     "start_time": "2022-11-21T19:52:30.189849",
     "status": "completed"
    },
    "tags": []
   },
   "outputs": [
    {
     "data": {
      "text/html": [
       "<div>\n",
       "<style scoped>\n",
       "    .dataframe tbody tr th:only-of-type {\n",
       "        vertical-align: middle;\n",
       "    }\n",
       "\n",
       "    .dataframe tbody tr th {\n",
       "        vertical-align: top;\n",
       "    }\n",
       "\n",
       "    .dataframe thead th {\n",
       "        text-align: right;\n",
       "    }\n",
       "</style>\n",
       "<table border=\"1\" class=\"dataframe\">\n",
       "  <thead>\n",
       "    <tr style=\"text-align: right;\">\n",
       "      <th></th>\n",
       "      <th>index</th>\n",
       "      <th>Predictions</th>\n",
       "      <th>Actual Values</th>\n",
       "      <th>Error</th>\n",
       "    </tr>\n",
       "  </thead>\n",
       "  <tbody>\n",
       "    <tr>\n",
       "      <th>0</th>\n",
       "      <td>0</td>\n",
       "      <td>315646.738470</td>\n",
       "      <td>328200.0</td>\n",
       "      <td>12553.261530</td>\n",
       "    </tr>\n",
       "    <tr>\n",
       "      <th>1</th>\n",
       "      <td>1</td>\n",
       "      <td>235926.156196</td>\n",
       "      <td>156900.0</td>\n",
       "      <td>-79026.156196</td>\n",
       "    </tr>\n",
       "    <tr>\n",
       "      <th>2</th>\n",
       "      <td>2</td>\n",
       "      <td>157003.325611</td>\n",
       "      <td>87200.0</td>\n",
       "      <td>-69803.325611</td>\n",
       "    </tr>\n",
       "    <tr>\n",
       "      <th>3</th>\n",
       "      <td>3</td>\n",
       "      <td>172404.340246</td>\n",
       "      <td>141000.0</td>\n",
       "      <td>-31404.340246</td>\n",
       "    </tr>\n",
       "    <tr>\n",
       "      <th>4</th>\n",
       "      <td>4</td>\n",
       "      <td>82931.270634</td>\n",
       "      <td>100800.0</td>\n",
       "      <td>17868.729366</td>\n",
       "    </tr>\n",
       "  </tbody>\n",
       "</table>\n",
       "</div>"
      ],
      "text/plain": [
       "   index    Predictions  Actual Values         Error\n",
       "0      0  315646.738470       328200.0  12553.261530\n",
       "1      1  235926.156196       156900.0 -79026.156196\n",
       "2      2  157003.325611        87200.0 -69803.325611\n",
       "3      3  172404.340246       141000.0 -31404.340246\n",
       "4      4   82931.270634       100800.0  17868.729366"
      ]
     },
     "execution_count": 15,
     "metadata": {},
     "output_type": "execute_result"
    }
   ],
   "source": [
    "performance.reset_index(drop=True, inplace=True)\n",
    "performance.reset_index(inplace=True)\n",
    "performance.head()"
   ]
  },
  {
   "cell_type": "markdown",
   "id": "a834e240",
   "metadata": {
    "papermill": {
     "duration": 0.010099,
     "end_time": "2022-11-21T19:52:30.239786",
     "exception": false,
     "start_time": "2022-11-21T19:52:30.229687",
     "status": "completed"
    },
    "tags": []
   },
   "source": [
    "## Plot the Residuals"
   ]
  },
  {
   "cell_type": "code",
   "execution_count": 16,
   "id": "e3afa6ab",
   "metadata": {
    "execution": {
     "iopub.execute_input": "2022-11-21T19:52:30.263077Z",
     "iopub.status.busy": "2022-11-21T19:52:30.262722Z",
     "iopub.status.idle": "2022-11-21T19:52:30.473148Z",
     "shell.execute_reply": "2022-11-21T19:52:30.472063Z"
    },
    "papermill": {
     "duration": 0.225263,
     "end_time": "2022-11-21T19:52:30.476207",
     "exception": false,
     "start_time": "2022-11-21T19:52:30.250944",
     "status": "completed"
    },
    "tags": []
   },
   "outputs": [
    {
     "data": {
      "image/png": "[encoded data removed]",
      "text/plain": [
       "<Figure size 720x360 with 1 Axes>"
      ]
     },
     "metadata": {
      "needs_background": "light"
     },
     "output_type": "display_data"
    }
   ],
   "source": [
    "fig = plt.figure(figsize=(10, 5))\n",
    "plt.bar(\"index\", \"Error\", data=performance[:50], color=\"black\", width=0.3)\n",
    "plt.xlabel(\"Observations\")\n",
    "plt.ylabel(\"Residuals\")\n",
    "plt.show()"
   ]
  },
  {
   "cell_type": "code",
   "execution_count": 17,
   "id": "e3679b3f",
   "metadata": {
    "execution": {
     "iopub.execute_input": "2022-11-21T19:52:30.495879Z",
     "iopub.status.busy": "2022-11-21T19:52:30.495378Z",
     "iopub.status.idle": "2022-11-21T19:52:31.562004Z",
     "shell.execute_reply": "2022-11-21T19:52:31.559731Z"
    },
    "papermill": {
     "duration": 1.07933,
     "end_time": "2022-11-21T19:52:31.564648",
     "exception": false,
     "start_time": "2022-11-21T19:52:30.485318",
     "status": "completed"
    },
    "tags": []
   },
   "outputs": [
    {
     "data": {
      "text/html": [
       "<table class=\"simpletable\">\n",
       "<caption>OLS Regression Results</caption>\n",
       "<tr>\n",
       "  <th>Dep. Variable:</th>    <td>median_house_value</td> <th>  R-squared:         </th>  <td>   0.643</td>  \n",
       "</tr>\n",
       "<tr>\n",
       "  <th>Model:</th>                    <td>OLS</td>        <th>  Adj. R-squared:    </th>  <td>   0.643</td>  \n",
       "</tr>\n",
       "<tr>\n",
       "  <th>Method:</th>              <td>Least Squares</td>   <th>  F-statistic:       </th>  <td>   2456.</td>  \n",
       "</tr>\n",
       "<tr>\n",
       "  <th>Date:</th>              <td>Mon, 21 Nov 2022</td>  <th>  Prob (F-statistic):</th>   <td>  0.00</td>   \n",
       "</tr>\n",
       "<tr>\n",
       "  <th>Time:</th>                  <td>19:52:31</td>      <th>  Log-Likelihood:    </th> <td>-2.0522e+05</td>\n",
       "</tr>\n",
       "<tr>\n",
       "  <th>No. Observations:</th>       <td> 16346</td>       <th>  AIC:               </th>  <td>4.105e+05</td> \n",
       "</tr>\n",
       "<tr>\n",
       "  <th>Df Residuals:</th>           <td> 16333</td>       <th>  BIC:               </th>  <td>4.106e+05</td> \n",
       "</tr>\n",
       "<tr>\n",
       "  <th>Df Model:</th>               <td>    12</td>       <th>                     </th>      <td> </td>     \n",
       "</tr>\n",
       "<tr>\n",
       "  <th>Covariance Type:</th>       <td>nonrobust</td>     <th>                     </th>      <td> </td>     \n",
       "</tr>\n",
       "</table>\n",
       "<table class=\"simpletable\">\n",
       "<tr>\n",
       "           <td></td>             <th>coef</th>     <th>std err</th>      <th>t</th>      <th>P>|t|</th>  <th>[0.025</th>    <th>0.975]</th>  \n",
       "</tr>\n",
       "<tr>\n",
       "  <th>const</th>              <td>-2.147e+06</td> <td> 1.05e+05</td> <td>  -20.413</td> <td> 0.000</td> <td>-2.35e+06</td> <td>-1.94e+06</td>\n",
       "</tr>\n",
       "<tr>\n",
       "  <th>longitude</th>          <td>-2.722e+04</td> <td> 1141.708</td> <td>  -23.841</td> <td> 0.000</td> <td>-2.95e+04</td> <td> -2.5e+04</td>\n",
       "</tr>\n",
       "<tr>\n",
       "  <th>latitude</th>           <td>-2.612e+04</td> <td> 1125.571</td> <td>  -23.208</td> <td> 0.000</td> <td>-2.83e+04</td> <td>-2.39e+04</td>\n",
       "</tr>\n",
       "<tr>\n",
       "  <th>housing_median_age</th> <td> 1036.3175</td> <td>   49.179</td> <td>   21.072</td> <td> 0.000</td> <td>  939.922</td> <td> 1132.713</td>\n",
       "</tr>\n",
       "<tr>\n",
       "  <th>total_rooms</th>        <td>   -6.3977</td> <td>    0.891</td> <td>   -7.184</td> <td> 0.000</td> <td>   -8.143</td> <td>   -4.652</td>\n",
       "</tr>\n",
       "<tr>\n",
       "  <th>total_bedrooms</th>     <td>   99.7707</td> <td>    7.613</td> <td>   13.105</td> <td> 0.000</td> <td>   84.848</td> <td>  114.694</td>\n",
       "</tr>\n",
       "<tr>\n",
       "  <th>population</th>         <td>  -37.3546</td> <td>    1.189</td> <td>  -31.405</td> <td> 0.000</td> <td>  -39.686</td> <td>  -35.023</td>\n",
       "</tr>\n",
       "<tr>\n",
       "  <th>households</th>         <td>   49.9035</td> <td>    8.223</td> <td>    6.069</td> <td> 0.000</td> <td>   33.786</td> <td>   66.021</td>\n",
       "</tr>\n",
       "<tr>\n",
       "  <th>median_income</th>      <td> 3.937e+04</td> <td>  382.254</td> <td>  102.983</td> <td> 0.000</td> <td> 3.86e+04</td> <td> 4.01e+04</td>\n",
       "</tr>\n",
       "<tr>\n",
       "  <th><1H OCEAN</th>          <td> -1.49e+05</td> <td> 3.43e+04</td> <td>   -4.339</td> <td> 0.000</td> <td>-2.16e+05</td> <td>-8.17e+04</td>\n",
       "</tr>\n",
       "<tr>\n",
       "  <th>INLAND</th>             <td>-1.878e+05</td> <td> 3.44e+04</td> <td>   -5.456</td> <td> 0.000</td> <td>-2.55e+05</td> <td> -1.2e+05</td>\n",
       "</tr>\n",
       "<tr>\n",
       "  <th>NEAR BAY</th>           <td>-1.519e+05</td> <td> 3.44e+04</td> <td>   -4.416</td> <td> 0.000</td> <td>-2.19e+05</td> <td>-8.45e+04</td>\n",
       "</tr>\n",
       "<tr>\n",
       "  <th>NEAR OCEAN</th>         <td>-1.457e+05</td> <td> 3.44e+04</td> <td>   -4.239</td> <td> 0.000</td> <td>-2.13e+05</td> <td>-7.83e+04</td>\n",
       "</tr>\n",
       "</table>\n",
       "<table class=\"simpletable\">\n",
       "<tr>\n",
       "  <th>Omnibus:</th>       <td>4103.497</td> <th>  Durbin-Watson:     </th> <td>   2.017</td> \n",
       "</tr>\n",
       "<tr>\n",
       "  <th>Prob(Omnibus):</th>  <td> 0.000</td>  <th>  Jarque-Bera (JB):  </th> <td>16258.145</td>\n",
       "</tr>\n",
       "<tr>\n",
       "  <th>Skew:</th>           <td> 1.201</td>  <th>  Prob(JB):          </th> <td>    0.00</td> \n",
       "</tr>\n",
       "<tr>\n",
       "  <th>Kurtosis:</th>       <td> 7.255</td>  <th>  Cond. No.          </th> <td>8.08e+05</td> \n",
       "</tr>\n",
       "</table><br/><br/>Notes:<br/>[1] Standard Errors assume that the covariance matrix of the errors is correctly specified.<br/>[2] The condition number is large, 8.08e+05. This might indicate that there are<br/>strong multicollinearity or other numerical problems."
      ],
      "text/plain": [
       "<class 'statsmodels.iolib.summary.Summary'>\n",
       "\"\"\"\n",
       "                            OLS Regression Results                            \n",
       "==============================================================================\n",
       "Dep. Variable:     median_house_value   R-squared:                       0.643\n",
       "Model:                            OLS   Adj. R-squared:                  0.643\n",
       "Method:                 Least Squares   F-statistic:                     2456.\n",
       "Date:                Mon, 21 Nov 2022   Prob (F-statistic):               0.00\n",
       "Time:                        19:52:31   Log-Likelihood:            -2.0522e+05\n",
       "No. Observations:               16346   AIC:                         4.105e+05\n",
       "Df Residuals:                   16333   BIC:                         4.106e+05\n",
       "Df Model:                          12                                         \n",
       "Covariance Type:            nonrobust                                         \n",
       "======================================================================================\n",
       "                         coef    std err          t      P>|t|      [0.025      0.975]\n",
       "--------------------------------------------------------------------------------------\n",
       "const              -2.147e+06   1.05e+05    -20.413      0.000   -2.35e+06   -1.94e+06\n",
       "longitude          -2.722e+04   1141.708    -23.841      0.000   -2.95e+04    -2.5e+04\n",
       "latitude           -2.612e+04   1125.571    -23.208      0.000   -2.83e+04   -2.39e+04\n",
       "housing_median_age  1036.3175     49.179     21.072      0.000     939.922    1132.713\n",
       "total_rooms           -6.3977      0.891     -7.184      0.000      -8.143      -4.652\n",
       "total_bedrooms        99.7707      7.613     13.105      0.000      84.848     114.694\n",
       "population           -37.3546      1.189    -31.405      0.000     -39.686     -35.023\n",
       "households            49.9035      8.223      6.069      0.000      33.786      66.021\n",
       "median_income       3.937e+04    382.254    102.983      0.000    3.86e+04    4.01e+04\n",
       "<1H OCEAN           -1.49e+05   3.43e+04     -4.339      0.000   -2.16e+05   -8.17e+04\n",
       "INLAND             -1.878e+05   3.44e+04     -5.456      0.000   -2.55e+05    -1.2e+05\n",
       "NEAR BAY           -1.519e+05   3.44e+04     -4.416      0.000   -2.19e+05   -8.45e+04\n",
       "NEAR OCEAN         -1.457e+05   3.44e+04     -4.239      0.000   -2.13e+05   -7.83e+04\n",
       "==============================================================================\n",
       "Omnibus:                     4103.497   Durbin-Watson:                   2.017\n",
       "Prob(Omnibus):                  0.000   Jarque-Bera (JB):            16258.145\n",
       "Skew:                           1.201   Prob(JB):                         0.00\n",
       "Kurtosis:                       7.255   Cond. No.                     8.08e+05\n",
       "==============================================================================\n",
       "\n",
       "Notes:\n",
       "[1] Standard Errors assume that the covariance matrix of the errors is correctly specified.\n",
       "[2] The condition number is large, 8.08e+05. This might indicate that there are\n",
       "strong multicollinearity or other numerical problems.\n",
       "\"\"\""
      ]
     },
     "execution_count": 17,
     "metadata": {},
     "output_type": "execute_result"
    }
   ],
   "source": [
    "import statsmodels.api as sm\n",
    "X_train= sm.add_constant(X_train)\n",
    "better_OLS = sm.OLS(y_train, X_train).fit()\n",
    "better_OLS.summary()"
   ]
  }
 ],
 "metadata": {
  "kernelspec": {
   "display_name": "Python 3",
   "language": "python",
   "name": "python3"
  },
  "language_info": {
   "codemirror_mode": {
    "name": "ipython",
    "version": 3
   },
   "file_extension": ".py",
   "mimetype": "text/x-python",
   "name": "python",
   "nbconvert_exporter": "python",
   "pygments_lexer": "ipython3",
   "version": "3.7.12"
  },
  "papermill": {
   "default_parameters": {},
   "duration": 14.969898,
   "end_time": "2022-11-21T19:52:32.504357",
   "environment_variables": {},
   "exception": null,
   "input_path": "__notebook__.ipynb",
   "output_path": "__notebook__.ipynb",
   "parameters": {},
   "start_time": "2022-11-21T19:52:17.534459",
   "version": "2.3.4"
  }
 },
 "nbformat": 4,
 "nbformat_minor": 5
}
